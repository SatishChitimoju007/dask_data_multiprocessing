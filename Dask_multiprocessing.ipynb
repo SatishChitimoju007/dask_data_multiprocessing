{
 "cells": [
  {
   "cell_type": "code",
   "execution_count": 35,
   "metadata": {},
   "outputs": [
    {
     "name": "stdout",
     "output_type": "stream",
     "text": [
      "Requirement already satisfied: TextBlob in c:\\users\\satis\\anaconda3\\envs\\pbestenv\\lib\\site-packages (0.18.0.post0)\n",
      "Requirement already satisfied: dask[dataframe] in c:\\users\\satis\\anaconda3\\envs\\pbestenv\\lib\\site-packages (2024.4.2)\n",
      "Requirement already satisfied: click>=8.1 in c:\\users\\satis\\anaconda3\\envs\\pbestenv\\lib\\site-packages (from dask[dataframe]) (8.1.7)\n",
      "Requirement already satisfied: cloudpickle>=1.5.0 in c:\\users\\satis\\anaconda3\\envs\\pbestenv\\lib\\site-packages (from dask[dataframe]) (3.0.0)\n",
      "Requirement already satisfied: fsspec>=2021.09.0 in c:\\users\\satis\\anaconda3\\envs\\pbestenv\\lib\\site-packages (from dask[dataframe]) (2024.3.1)\n",
      "Requirement already satisfied: packaging>=20.0 in c:\\users\\satis\\anaconda3\\envs\\pbestenv\\lib\\site-packages (from dask[dataframe]) (24.0)\n",
      "Requirement already satisfied: partd>=1.2.0 in c:\\users\\satis\\anaconda3\\envs\\pbestenv\\lib\\site-packages (from dask[dataframe]) (1.4.1)\n",
      "Requirement already satisfied: pyyaml>=5.3.1 in c:\\users\\satis\\anaconda3\\envs\\pbestenv\\lib\\site-packages (from dask[dataframe]) (6.0.1)\n",
      "Requirement already satisfied: toolz>=0.10.0 in c:\\users\\satis\\anaconda3\\envs\\pbestenv\\lib\\site-packages (from dask[dataframe]) (0.12.1)\n",
      "Requirement already satisfied: pandas>=1.3 in c:\\users\\satis\\anaconda3\\envs\\pbestenv\\lib\\site-packages (from dask[dataframe]) (2.2.2)\n",
      "Requirement already satisfied: dask-expr<1.1,>=1.0 in c:\\users\\satis\\anaconda3\\envs\\pbestenv\\lib\\site-packages (from dask[dataframe]) (1.0.13)\n",
      "Requirement already satisfied: nltk>=3.8 in c:\\users\\satis\\anaconda3\\envs\\pbestenv\\lib\\site-packages (from TextBlob) (3.8.1)\n",
      "Requirement already satisfied: colorama in c:\\users\\satis\\anaconda3\\envs\\pbestenv\\lib\\site-packages (from click>=8.1->dask[dataframe]) (0.4.6)\n",
      "Requirement already satisfied: pyarrow>=7.0.0 in c:\\users\\satis\\anaconda3\\envs\\pbestenv\\lib\\site-packages (from dask-expr<1.1,>=1.0->dask[dataframe]) (16.0.0)\n",
      "Requirement already satisfied: joblib in c:\\users\\satis\\anaconda3\\envs\\pbestenv\\lib\\site-packages (from nltk>=3.8->TextBlob) (1.4.0)\n",
      "Requirement already satisfied: regex>=2021.8.3 in c:\\users\\satis\\anaconda3\\envs\\pbestenv\\lib\\site-packages (from nltk>=3.8->TextBlob) (2024.4.28)\n",
      "Requirement already satisfied: tqdm in c:\\users\\satis\\anaconda3\\envs\\pbestenv\\lib\\site-packages (from nltk>=3.8->TextBlob) (4.66.2)\n",
      "Requirement already satisfied: numpy>=1.26.0 in c:\\users\\satis\\anaconda3\\envs\\pbestenv\\lib\\site-packages (from pandas>=1.3->dask[dataframe]) (1.26.4)\n",
      "Requirement already satisfied: python-dateutil>=2.8.2 in c:\\users\\satis\\anaconda3\\envs\\pbestenv\\lib\\site-packages (from pandas>=1.3->dask[dataframe]) (2.9.0)\n",
      "Requirement already satisfied: pytz>=2020.1 in c:\\users\\satis\\anaconda3\\envs\\pbestenv\\lib\\site-packages (from pandas>=1.3->dask[dataframe]) (2024.1)\n",
      "Requirement already satisfied: tzdata>=2022.7 in c:\\users\\satis\\anaconda3\\envs\\pbestenv\\lib\\site-packages (from pandas>=1.3->dask[dataframe]) (2024.1)\n",
      "Requirement already satisfied: locket in c:\\users\\satis\\anaconda3\\envs\\pbestenv\\lib\\site-packages (from partd>=1.2.0->dask[dataframe]) (1.0.0)\n",
      "Requirement already satisfied: six>=1.5 in c:\\users\\satis\\anaconda3\\envs\\pbestenv\\lib\\site-packages (from python-dateutil>=2.8.2->pandas>=1.3->dask[dataframe]) (1.16.0)\n"
     ]
    }
   ],
   "source": [
    "!pip install dask[dataframe] TextBlob"
   ]
  },
  {
   "cell_type": "code",
   "execution_count": 36,
   "metadata": {},
   "outputs": [],
   "source": [
    "import pandas as pd\n",
    "import dask.dataframe as dd\n",
    "from textblob import TextBlob"
   ]
  },
  {
   "cell_type": "code",
   "execution_count": 37,
   "metadata": {},
   "outputs": [],
   "source": [
    "text_data = ['I am going to USA']*1000"
   ]
  },
  {
   "cell_type": "code",
   "execution_count": 38,
   "metadata": {},
   "outputs": [],
   "source": [
    "df = pd.DataFrame(text_data,columns=['text'])"
   ]
  },
  {
   "cell_type": "code",
   "execution_count": 39,
   "metadata": {},
   "outputs": [
    {
     "data": {
      "text/plain": [
       "(1000, 1)"
      ]
     },
     "execution_count": 39,
     "metadata": {},
     "output_type": "execute_result"
    }
   ],
   "source": [
    "df.shape"
   ]
  },
  {
   "cell_type": "code",
   "execution_count": 40,
   "metadata": {},
   "outputs": [],
   "source": [
    "#Create custom sentiment extraction function which takes a long time to execute\n",
    "def get_sentiment(text):\n",
    "    if isinstance(text, str):\n",
    "        blob = TextBlob(text)\n",
    "        return blob.sentiment\n",
    "    else:\n",
    "        return None"
   ]
  },
  {
   "cell_type": "code",
   "execution_count": 46,
   "metadata": {},
   "outputs": [
    {
     "name": "stdout",
     "output_type": "stream",
     "text": [
      "CPU times: total: 46.9 ms\n",
      "Wall time: 59.5 ms\n"
     ]
    }
   ],
   "source": [
    "#Apply the custom function using normal Pandas apply function\n",
    "%time new_df = df['text'].apply(get_sentiment)"
   ]
  },
  {
   "cell_type": "code",
   "execution_count": 47,
   "metadata": {},
   "outputs": [
    {
     "name": "stdout",
     "output_type": "stream",
     "text": [
      "CPU times: total: 141 ms\n",
      "Wall time: 1.85 s\n"
     ]
    }
   ],
   "source": [
    "# Use DASK for parallel processing\n",
    "ddata = dd.from_pandas(df, npartitions=24)\n",
    "%time new_df = ddata.map_partitions(lambda df: df['text'].apply(get_sentiment)).compute(scheduler='processes')"
   ]
  }
 ],
 "metadata": {
  "kernelspec": {
   "display_name": "PBESTENV",
   "language": "python",
   "name": "python3"
  },
  "language_info": {
   "codemirror_mode": {
    "name": "ipython",
    "version": 3
   },
   "file_extension": ".py",
   "mimetype": "text/x-python",
   "name": "python",
   "nbconvert_exporter": "python",
   "pygments_lexer": "ipython3",
   "version": "3.12.3"
  }
 },
 "nbformat": 4,
 "nbformat_minor": 2
}
