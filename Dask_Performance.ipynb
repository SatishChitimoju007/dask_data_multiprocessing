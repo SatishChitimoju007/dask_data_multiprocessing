{
 "cells": [
  {
   "cell_type": "code",
   "execution_count": 14,
   "metadata": {},
   "outputs": [
    {
     "name": "stdout",
     "output_type": "stream",
     "text": [
      "Requirement already satisfied: dask[dataframe] in c:\\users\\satis\\anaconda3\\envs\\pbestenv\\lib\\site-packages (2024.4.2)\n",
      "Requirement already satisfied: click>=8.1 in c:\\users\\satis\\anaconda3\\envs\\pbestenv\\lib\\site-packages (from dask[dataframe]) (8.1.7)\n",
      "Requirement already satisfied: cloudpickle>=1.5.0 in c:\\users\\satis\\anaconda3\\envs\\pbestenv\\lib\\site-packages (from dask[dataframe]) (3.0.0)\n",
      "Requirement already satisfied: fsspec>=2021.09.0 in c:\\users\\satis\\anaconda3\\envs\\pbestenv\\lib\\site-packages (from dask[dataframe]) (2024.3.1)\n",
      "Requirement already satisfied: packaging>=20.0 in c:\\users\\satis\\anaconda3\\envs\\pbestenv\\lib\\site-packages (from dask[dataframe]) (24.0)\n",
      "Requirement already satisfied: partd>=1.2.0 in c:\\users\\satis\\anaconda3\\envs\\pbestenv\\lib\\site-packages (from dask[dataframe]) (1.4.1)\n",
      "Requirement already satisfied: pyyaml>=5.3.1 in c:\\users\\satis\\anaconda3\\envs\\pbestenv\\lib\\site-packages (from dask[dataframe]) (6.0.1)\n",
      "Requirement already satisfied: toolz>=0.10.0 in c:\\users\\satis\\anaconda3\\envs\\pbestenv\\lib\\site-packages (from dask[dataframe]) (0.12.1)\n",
      "Requirement already satisfied: pandas>=1.3 in c:\\users\\satis\\anaconda3\\envs\\pbestenv\\lib\\site-packages (from dask[dataframe]) (2.2.2)\n",
      "Requirement already satisfied: dask-expr<1.1,>=1.0 in c:\\users\\satis\\anaconda3\\envs\\pbestenv\\lib\\site-packages (from dask[dataframe]) (1.0.13)\n",
      "Requirement already satisfied: colorama in c:\\users\\satis\\anaconda3\\envs\\pbestenv\\lib\\site-packages (from click>=8.1->dask[dataframe]) (0.4.6)\n",
      "Requirement already satisfied: pyarrow>=7.0.0 in c:\\users\\satis\\anaconda3\\envs\\pbestenv\\lib\\site-packages (from dask-expr<1.1,>=1.0->dask[dataframe]) (16.0.0)\n",
      "Requirement already satisfied: numpy>=1.26.0 in c:\\users\\satis\\anaconda3\\envs\\pbestenv\\lib\\site-packages (from pandas>=1.3->dask[dataframe]) (1.26.4)\n",
      "Requirement already satisfied: python-dateutil>=2.8.2 in c:\\users\\satis\\anaconda3\\envs\\pbestenv\\lib\\site-packages (from pandas>=1.3->dask[dataframe]) (2.9.0)\n",
      "Requirement already satisfied: pytz>=2020.1 in c:\\users\\satis\\anaconda3\\envs\\pbestenv\\lib\\site-packages (from pandas>=1.3->dask[dataframe]) (2024.1)\n",
      "Requirement already satisfied: tzdata>=2022.7 in c:\\users\\satis\\anaconda3\\envs\\pbestenv\\lib\\site-packages (from pandas>=1.3->dask[dataframe]) (2024.1)\n",
      "Requirement already satisfied: locket in c:\\users\\satis\\anaconda3\\envs\\pbestenv\\lib\\site-packages (from partd>=1.2.0->dask[dataframe]) (1.0.0)\n",
      "Requirement already satisfied: six>=1.5 in c:\\users\\satis\\anaconda3\\envs\\pbestenv\\lib\\site-packages (from python-dateutil>=2.8.2->pandas>=1.3->dask[dataframe]) (1.16.0)\n"
     ]
    }
   ],
   "source": [
    "!pip install dask[dataframe]"
   ]
  },
  {
   "cell_type": "code",
   "execution_count": 15,
   "metadata": {},
   "outputs": [],
   "source": [
    "import pandas as pd\n",
    "import numpy as np\n",
    "import dask.dataframe as dd\n",
    "import time as time"
   ]
  },
  {
   "cell_type": "markdown",
   "metadata": {},
   "source": [
    "## Reading Large Dataset using pandas and dask"
   ]
  },
  {
   "cell_type": "code",
   "execution_count": 16,
   "metadata": {},
   "outputs": [],
   "source": [
    "pd.DataFrame({\n",
    "            'A': np.random.randint(0,100,size=20000000),\n",
    "            'B': np.random.randint(0,100,size=20000000),\n",
    "            'C': np.random.randint(0,100,size=20000000)\n",
    "}).to_csv('dataset.csv',index=False)"
   ]
  },
  {
   "cell_type": "code",
   "execution_count": 17,
   "metadata": {},
   "outputs": [
    {
     "name": "stdout",
     "output_type": "stream",
     "text": [
      "Pandas: shape =(20000000, 3), time =1.7752459049224854 seconds\n"
     ]
    }
   ],
   "source": [
    "start_time = time.time()\n",
    "df = pd.read_csv('dataset.csv')\n",
    "pandas_time = time.time() - start_time\n",
    "print(f\"Pandas: shape ={df.shape}, time ={pandas_time} seconds\")"
   ]
  },
  {
   "cell_type": "code",
   "execution_count": 18,
   "metadata": {},
   "outputs": [
    {
     "name": "stdout",
     "output_type": "stream",
     "text": [
      "Dask: shape =(20000000, 3), time =1.721172571182251 seconds\n"
     ]
    }
   ],
   "source": [
    "# Read the same file using desk\n",
    "start_time = time.time()\n",
    "dask_df = pd.read_csv('dataset.csv')\n",
    "dask_time = time.time() - start_time\n",
    "print(f\"Dask: shape ={dask_df.shape}, time ={dask_time} seconds\")"
   ]
  },
  {
   "cell_type": "code",
   "execution_count": 19,
   "metadata": {},
   "outputs": [
    {
     "data": {
      "text/html": [
       "<div>\n",
       "<style scoped>\n",
       "    .dataframe tbody tr th:only-of-type {\n",
       "        vertical-align: middle;\n",
       "    }\n",
       "\n",
       "    .dataframe tbody tr th {\n",
       "        vertical-align: top;\n",
       "    }\n",
       "\n",
       "    .dataframe thead th {\n",
       "        text-align: right;\n",
       "    }\n",
       "</style>\n",
       "<table border=\"1\" class=\"dataframe\">\n",
       "  <thead>\n",
       "    <tr style=\"text-align: right;\">\n",
       "      <th></th>\n",
       "      <th>A</th>\n",
       "      <th>B</th>\n",
       "      <th>C</th>\n",
       "    </tr>\n",
       "  </thead>\n",
       "  <tbody>\n",
       "    <tr>\n",
       "      <th>0</th>\n",
       "      <td>58</td>\n",
       "      <td>31</td>\n",
       "      <td>7</td>\n",
       "    </tr>\n",
       "    <tr>\n",
       "      <th>1</th>\n",
       "      <td>40</td>\n",
       "      <td>39</td>\n",
       "      <td>74</td>\n",
       "    </tr>\n",
       "    <tr>\n",
       "      <th>2</th>\n",
       "      <td>26</td>\n",
       "      <td>83</td>\n",
       "      <td>28</td>\n",
       "    </tr>\n",
       "    <tr>\n",
       "      <th>3</th>\n",
       "      <td>37</td>\n",
       "      <td>10</td>\n",
       "      <td>64</td>\n",
       "    </tr>\n",
       "    <tr>\n",
       "      <th>4</th>\n",
       "      <td>20</td>\n",
       "      <td>25</td>\n",
       "      <td>63</td>\n",
       "    </tr>\n",
       "  </tbody>\n",
       "</table>\n",
       "</div>"
      ],
      "text/plain": [
       "    A   B   C\n",
       "0  58  31   7\n",
       "1  40  39  74\n",
       "2  26  83  28\n",
       "3  37  10  64\n",
       "4  20  25  63"
      ]
     },
     "execution_count": 19,
     "metadata": {},
     "output_type": "execute_result"
    }
   ],
   "source": [
    "df.head()"
   ]
  },
  {
   "cell_type": "code",
   "execution_count": 20,
   "metadata": {},
   "outputs": [
    {
     "data": {
      "text/html": [
       "<div>\n",
       "<style scoped>\n",
       "    .dataframe tbody tr th:only-of-type {\n",
       "        vertical-align: middle;\n",
       "    }\n",
       "\n",
       "    .dataframe tbody tr th {\n",
       "        vertical-align: top;\n",
       "    }\n",
       "\n",
       "    .dataframe thead th {\n",
       "        text-align: right;\n",
       "    }\n",
       "</style>\n",
       "<table border=\"1\" class=\"dataframe\">\n",
       "  <thead>\n",
       "    <tr style=\"text-align: right;\">\n",
       "      <th></th>\n",
       "      <th>A</th>\n",
       "      <th>B</th>\n",
       "      <th>C</th>\n",
       "    </tr>\n",
       "  </thead>\n",
       "  <tbody>\n",
       "    <tr>\n",
       "      <th>0</th>\n",
       "      <td>58</td>\n",
       "      <td>31</td>\n",
       "      <td>7</td>\n",
       "    </tr>\n",
       "    <tr>\n",
       "      <th>1</th>\n",
       "      <td>40</td>\n",
       "      <td>39</td>\n",
       "      <td>74</td>\n",
       "    </tr>\n",
       "    <tr>\n",
       "      <th>2</th>\n",
       "      <td>26</td>\n",
       "      <td>83</td>\n",
       "      <td>28</td>\n",
       "    </tr>\n",
       "    <tr>\n",
       "      <th>3</th>\n",
       "      <td>37</td>\n",
       "      <td>10</td>\n",
       "      <td>64</td>\n",
       "    </tr>\n",
       "    <tr>\n",
       "      <th>4</th>\n",
       "      <td>20</td>\n",
       "      <td>25</td>\n",
       "      <td>63</td>\n",
       "    </tr>\n",
       "  </tbody>\n",
       "</table>\n",
       "</div>"
      ],
      "text/plain": [
       "    A   B   C\n",
       "0  58  31   7\n",
       "1  40  39  74\n",
       "2  26  83  28\n",
       "3  37  10  64\n",
       "4  20  25  63"
      ]
     },
     "execution_count": 20,
     "metadata": {},
     "output_type": "execute_result"
    }
   ],
   "source": [
    "dask_df.head()"
   ]
  },
  {
   "cell_type": "markdown",
   "metadata": {},
   "source": [
    "## Group By and Aggregation using pandas and dask"
   ]
  },
  {
   "cell_type": "code",
   "execution_count": 21,
   "metadata": {},
   "outputs": [
    {
     "name": "stdout",
     "output_type": "stream",
     "text": [
      "Pandas: Time =0.6233129501342773 seconds\n"
     ]
    }
   ],
   "source": [
    "# Time the group by operation using Pandas\n",
    "start_time = time.time()\n",
    "pandas_groupby = df.groupby(['A','B']).agg({'C':'sum'})\n",
    "pandas_time = time.time() - start_time\n",
    "print(f\"Pandas: Time ={pandas_time} seconds\")"
   ]
  },
  {
   "cell_type": "code",
   "execution_count": 22,
   "metadata": {},
   "outputs": [
    {
     "name": "stdout",
     "output_type": "stream",
     "text": [
      "Dask: Time =0.617121696472168 seconds\n"
     ]
    }
   ],
   "source": [
    "# Time the group by operation using Dask\n",
    "start_time = time.time()\n",
    "dask_groupby = dask_df.groupby(['A','B']).agg({'C':'sum'})\n",
    "dask_time = time.time() - start_time\n",
    "print(f\"Dask: Time ={dask_time} seconds\")"
   ]
  },
  {
   "cell_type": "markdown",
   "metadata": {},
   "source": [
    "## Merging Datasets using pandas and dask"
   ]
  },
  {
   "cell_type": "code",
   "execution_count": 23,
   "metadata": {},
   "outputs": [
    {
     "name": "stdout",
     "output_type": "stream",
     "text": [
      "Pandas: Time =35.56597948074341 seconds\n"
     ]
    }
   ],
   "source": [
    "# Merge using Pandas\n",
    "start_time = time.time()\n",
    "marged_pandas = pd.merge(df,df)\n",
    "pandas_time = time.time() - start_time\n",
    "print(f\"Pandas: Time ={pandas_time} seconds\")"
   ]
  },
  {
   "cell_type": "code",
   "execution_count": 34,
   "metadata": {},
   "outputs": [
    {
     "name": "stdout",
     "output_type": "stream",
     "text": [
      "Pandas: Time =0.6841371059417725 seconds\n"
     ]
    }
   ],
   "source": [
    "# Merge using Dask\n",
    "start_time = time.time()\n",
    "marged_dask = dd.merge(dask_df,dask_df)\n",
    "dask_time = time.time() - start_time\n",
    "print(f\"Pandas: Time ={dask_time} seconds\")"
   ]
  },
  {
   "cell_type": "markdown",
   "metadata": {},
   "source": [
    "## Filtering Data using pandas and dask"
   ]
  },
  {
   "cell_type": "code",
   "execution_count": 25,
   "metadata": {},
   "outputs": [
    {
     "name": "stdout",
     "output_type": "stream",
     "text": [
      "Pandas: Time =0.047921180725097656 seconds\n"
     ]
    }
   ],
   "source": [
    "# Filtering using Pandas\n",
    "start_time = time.time()\n",
    "selected_pandas = df[df['A'] > 5000000]\n",
    "pandas_time = time.time() - start_time\n",
    "print(f\"Pandas: Time ={pandas_time} seconds\")"
   ]
  },
  {
   "cell_type": "code",
   "execution_count": 33,
   "metadata": {},
   "outputs": [
    {
     "name": "stdout",
     "output_type": "stream",
     "text": [
      "Dask: Time =0.017808198928833008 seconds\n"
     ]
    }
   ],
   "source": [
    "# Filtering using Dask\n",
    "start_time = time.time()\n",
    "selected_dask = dask_df[dask_df['A'] > 5000000]\n",
    "dask_time = time.time() - start_time\n",
    "print(f\"Dask: Time ={dask_time} seconds\")"
   ]
  },
  {
   "cell_type": "markdown",
   "metadata": {},
   "source": [
    "## Apply function in pandas and dask"
   ]
  },
  {
   "cell_type": "code",
   "execution_count": 27,
   "metadata": {},
   "outputs": [],
   "source": [
    "# function to perform Apply on\n",
    "def my_function(x):\n",
    "    return x * 2"
   ]
  },
  {
   "cell_type": "code",
   "execution_count": 28,
   "metadata": {},
   "outputs": [
    {
     "name": "stdout",
     "output_type": "stream",
     "text": [
      "Pandas: Time =3.3092613220214844 seconds\n"
     ]
    }
   ],
   "source": [
    "# Apply using Pandas\n",
    "start_time = time.time()\n",
    "applied_pandas = df['A'].apply(my_function)\n",
    "pandas_time = time.time() - start_time\n",
    "print(f\"Pandas: Time ={pandas_time} seconds\")"
   ]
  },
  {
   "cell_type": "code",
   "execution_count": 32,
   "metadata": {},
   "outputs": [
    {
     "name": "stdout",
     "output_type": "stream",
     "text": [
      "Dask: Time =3.285322904586792 seconds\n"
     ]
    }
   ],
   "source": [
    "# Apply using Dask\n",
    "start_time = time.time()\n",
    "applied_dask = dask_df['A'].map(my_function)\n",
    "dask_time = time.time() - start_time\n",
    "print(f\"Dask: Time ={dask_time} seconds\")"
   ]
  },
  {
   "cell_type": "markdown",
   "metadata": {},
   "source": [
    "## Distibuted Computing"
   ]
  },
  {
   "cell_type": "code",
   "execution_count": 43,
   "metadata": {},
   "outputs": [
    {
     "name": "stdout",
     "output_type": "stream",
     "text": [
      "Dask: Time =0.019426584243774414 seconds\n"
     ]
    }
   ],
   "source": [
    "# Distibuted Computing using Dask\n",
    "dask_df = dd.from_pandas(df, npartitions=24)\n",
    "start_time = time.time()\n",
    "distibuted_dask = dask_df['A'].map_partitions(my_function)\n",
    "dask_time = time.time() - start_time\n",
    "print(f\"Dask: Time ={dask_time} seconds\")"
   ]
  }
 ],
 "metadata": {
  "kernelspec": {
   "display_name": "PBESTENV",
   "language": "python",
   "name": "python3"
  },
  "language_info": {
   "codemirror_mode": {
    "name": "ipython",
    "version": 3
   },
   "file_extension": ".py",
   "mimetype": "text/x-python",
   "name": "python",
   "nbconvert_exporter": "python",
   "pygments_lexer": "ipython3",
   "version": "3.12.3"
  }
 },
 "nbformat": 4,
 "nbformat_minor": 2
}
